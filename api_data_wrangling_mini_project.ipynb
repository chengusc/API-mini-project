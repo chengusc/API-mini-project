{
 "cells": [
  {
   "cell_type": "markdown",
   "metadata": {},
   "source": [
    "This exercise will require you to pull some data from https://data.nasdaq.com/ (formerly Quandl API)."
   ]
  },
  {
   "cell_type": "markdown",
   "metadata": {},
   "source": [
    "As a first step, you will need to register a free account on the https://data.nasdaq.com/ website."
   ]
  },
  {
   "cell_type": "markdown",
   "metadata": {},
   "source": [
    "After you register, you will be provided with a unique API key, that you should store:\n",
    "\n",
    "*Note*: Use a `.env` file and put your key in there and `python-dotenv` to access it in this notebook. \n",
    "\n",
    "The code below uses a key that was used when generating this project but has since been deleted. Never submit your keys to source control. There is a `.env-example` file in this repository to illusrtate what you need. Copy that to a file called `.env` and use your own api key in that `.env` file. Make sure you also have a `.gitignore` file with a line for `.env` added to it. \n",
    "\n",
    "The standard Python gitignore is [here](https://github.com/github/gitignore/blob/master/Python.gitignore) you can just copy that. "
   ]
  },
  {
   "cell_type": "code",
   "execution_count": 1,
   "metadata": {
    "scrolled": true
   },
   "outputs": [
    {
     "name": "stdout",
     "output_type": "stream",
     "text": [
      "dddddddd\n"
     ]
    }
   ],
   "source": [
    "# get api key from your .env file\n",
    "import os\n",
    "from dotenv import load_dotenv\n",
    "from collections import defaultdict\n",
    "\n",
    "load_dotenv()\n",
    "API_KEY = os.getenv('NASDAQ_API_KEY')\n",
    "\n",
    "print(API_KEY)"
   ]
  },
  {
   "cell_type": "markdown",
   "metadata": {},
   "source": [
    "Nasdaq Data has a large number of data sources, but, unfortunately, most of them require a Premium subscription. Still, there are also a good number of free datasets."
   ]
  },
  {
   "cell_type": "markdown",
   "metadata": {},
   "source": [
    "For this mini project, we will focus on equities data from the Frankfurt Stock Exhange (FSE), which is available for free. We'll try and analyze the stock prices of a company called Carl Zeiss Meditec, which manufactures tools for eye examinations, as well as medical lasers for laser eye surgery: https://www.zeiss.com/meditec/int/home.html. The company is listed under the stock ticker AFX_X."
   ]
  },
  {
   "cell_type": "markdown",
   "metadata": {},
   "source": [
    "You can find the detailed Nasdaq Data API instructions here: https://docs.data.nasdaq.com/docs/in-depth-usage"
   ]
  },
  {
   "cell_type": "markdown",
   "metadata": {},
   "source": [
    "While there is a dedicated Python package for connecting to the Nasdaq API, we would prefer that you use the *requests* package, which can be easily downloaded using *pip* or *conda*. You can find the documentation for the package here: http://docs.python-requests.org/en/master/ "
   ]
  },
  {
   "cell_type": "markdown",
   "metadata": {},
   "source": [
    "Finally, apart from the *requests* package, you are encouraged to not use any third party Python packages, such as *pandas*, and instead focus on what's available in the Python Standard Library (the *collections* module might come in handy: https://pymotw.com/3/collections/).\n",
    "Also, since you won't have access to DataFrames, you are encouraged to us Python's native data structures - preferably dictionaries, though some questions can also be answered using lists.\n",
    "You can read more on these data structures here: https://docs.python.org/3/tutorial/datastructures.html"
   ]
  },
  {
   "cell_type": "markdown",
   "metadata": {},
   "source": [
    "Keep in mind that the JSON responses you will be getting from the API map almost one-to-one to Python's dictionaries. Unfortunately, they can be very nested, so make sure you read up on indexing dictionaries in the documentation provided above."
   ]
  },
  {
   "cell_type": "code",
   "execution_count": 253,
   "metadata": {},
   "outputs": [],
   "source": [
    "# First, import the relevant modules\n",
    "import requests"
   ]
  },
  {
   "cell_type": "markdown",
   "metadata": {},
   "source": [
    "Note: API's can change a bit with each version, for this exercise it is reccomended to use the nasdaq api at `https://data.nasdaq.com/api/v3/`. This is the same api as what used to be quandl so `https://www.quandl.com/api/v3/` should work too.\n",
    "\n",
    "Hint: We are looking for the `AFX_X` data on the `datasets/FSE/` dataset."
   ]
  },
  {
   "cell_type": "code",
   "execution_count": 254,
   "metadata": {},
   "outputs": [],
   "source": [
    "# Now, call the Nasdaq API and pull out a small sample of the data (only one day) to get a glimpse\n",
    "# into the JSON structure that will be returned\n",
    "res = requests.get('https://data.nasdaq.com/api/v3/datasets/FSE/AFX_X/?&start_date=2014-11-01&end_date=2014-11-03?api_key=API_KEY')"
   ]
  },
  {
   "cell_type": "code",
   "execution_count": 255,
   "metadata": {},
   "outputs": [
    {
     "data": {
      "text/plain": [
       "{'id': 10095370,\n",
       " 'dataset_code': 'AFX_X',\n",
       " 'database_code': 'FSE',\n",
       " 'name': 'Carl Zeiss Meditec (AFX_X)',\n",
       " 'description': 'Stock Prices for Carl Zeiss Meditec (2020-11-02) from the Frankfurt Stock Exchange.<br><br>Trading System: Xetra<br><br>ISIN: DE0005313704',\n",
       " 'refreshed_at': '2020-12-01T14:48:09.907Z',\n",
       " 'newest_available_date': '2020-12-01',\n",
       " 'oldest_available_date': '2000-06-07',\n",
       " 'column_names': ['Date',\n",
       "  'Open',\n",
       "  'High',\n",
       "  'Low',\n",
       "  'Close',\n",
       "  'Change',\n",
       "  'Traded Volume',\n",
       "  'Turnover',\n",
       "  'Last Price of the Day',\n",
       "  'Daily Traded Units',\n",
       "  'Daily Turnover'],\n",
       " 'frequency': 'daily',\n",
       " 'type': 'Time Series',\n",
       " 'premium': False,\n",
       " 'limit': None,\n",
       " 'transform': None,\n",
       " 'column_index': None,\n",
       " 'start_date': '2014-11-01',\n",
       " 'end_date': '2014-11-03',\n",
       " 'data': [['2014-11-03',\n",
       "   21.86,\n",
       "   21.86,\n",
       "   21.43,\n",
       "   21.67,\n",
       "   None,\n",
       "   17346.0,\n",
       "   376461.0,\n",
       "   None,\n",
       "   None,\n",
       "   None]],\n",
       " 'collapse': None,\n",
       " 'order': None,\n",
       " 'database_id': 6129}"
      ]
     },
     "execution_count": 255,
     "metadata": {},
     "output_type": "execute_result"
    }
   ],
   "source": [
    "# Inspect the JSON structure of the object you created, and take note of how nested it is,\n",
    "# as well as the overall structure\n",
    "json = res.json()\n",
    "json['dataset']"
   ]
  },
  {
   "cell_type": "markdown",
   "metadata": {},
   "source": [
    "These are your tasks for this mini project:\n",
    "\n",
    "1. Collect data from the Franfurt Stock Exchange, for the ticker AFX_X, for the whole year 2017 (keep in mind that the date format is YYYY-MM-DD).\n",
    "2. Convert the returned JSON object into a Python dictionary.\n",
    "3. Calculate what the highest and lowest opening prices were for the stock in this period.\n",
    "4. What was the largest change in any one day (based on High and Low price)?\n",
    "5. What was the largest change between any two days (based on Closing Price)?\n",
    "6. What was the average daily trading volume during this year?\n",
    "7. (Optional) What was the median trading volume during this year. (Note: you may need to implement your own function for calculating the median.)"
   ]
  },
  {
   "cell_type": "code",
   "execution_count": 256,
   "metadata": {},
   "outputs": [],
   "source": [
    "res_2017 = requests.get('https://data.nasdaq.com/api/v3/datasets/FSE/AFX_X/?&start_date=2017-01-01&end_date=2017-12-30?api_key=API_KEY')\n",
    "json_2017 = res_2017.json()"
   ]
  },
  {
   "cell_type": "code",
   "execution_count": 257,
   "metadata": {},
   "outputs": [],
   "source": [
    "AFX_X_dict = defaultdict(str)"
   ]
  },
  {
   "cell_type": "code",
   "execution_count": 258,
   "metadata": {},
   "outputs": [
    {
     "data": {
      "text/plain": [
       "'Date'"
      ]
     },
     "execution_count": 258,
     "metadata": {},
     "output_type": "execute_result"
    }
   ],
   "source": [
    "json_2017['dataset']['column_names'][0]"
   ]
  },
  {
   "cell_type": "code",
   "execution_count": 259,
   "metadata": {},
   "outputs": [
    {
     "data": {
      "text/plain": [
       "'2017-12-29'"
      ]
     },
     "execution_count": 259,
     "metadata": {},
     "output_type": "execute_result"
    }
   ],
   "source": [
    "json_2017['dataset']['data'][0][0]"
   ]
  },
  {
   "cell_type": "code",
   "execution_count": 260,
   "metadata": {},
   "outputs": [],
   "source": [
    "for i in range(len(json_2017['dataset']['column_names'])):\n",
    "    AFX_X_dict[json_2017['dataset']['column_names'][i]] = [json_2017['dataset']['data'][0][i]]"
   ]
  },
  {
   "cell_type": "code",
   "execution_count": 261,
   "metadata": {},
   "outputs": [
    {
     "data": {
      "text/plain": [
       "defaultdict(str,\n",
       "            {'Date': ['2017-12-29'],\n",
       "             'Open': [51.76],\n",
       "             'High': [51.94],\n",
       "             'Low': [51.45],\n",
       "             'Close': [51.76],\n",
       "             'Change': [None],\n",
       "             'Traded Volume': [34640.0],\n",
       "             'Turnover': [1792304.0],\n",
       "             'Last Price of the Day': [None],\n",
       "             'Daily Traded Units': [None],\n",
       "             'Daily Turnover': [None]})"
      ]
     },
     "execution_count": 261,
     "metadata": {},
     "output_type": "execute_result"
    }
   ],
   "source": [
    "AFX_X_dict"
   ]
  },
  {
   "cell_type": "code",
   "execution_count": 262,
   "metadata": {},
   "outputs": [],
   "source": [
    "length = len(json_2017['dataset']['data'])"
   ]
  },
  {
   "cell_type": "code",
   "execution_count": 263,
   "metadata": {},
   "outputs": [
    {
     "data": {
      "text/plain": [
       "255"
      ]
     },
     "execution_count": 263,
     "metadata": {},
     "output_type": "execute_result"
    }
   ],
   "source": [
    "length"
   ]
  },
  {
   "cell_type": "code",
   "execution_count": 264,
   "metadata": {},
   "outputs": [],
   "source": [
    "for i in range(len(json_2017['dataset']['column_names'])):\n",
    "    for j in range(1,length):\n",
    "        AFX_X_dict[json_2017['dataset']['column_names'][i]].append(json_2017['dataset']['data'][j][i])"
   ]
  },
  {
   "cell_type": "code",
   "execution_count": 265,
   "metadata": {},
   "outputs": [
    {
     "data": {
      "text/plain": [
       "[51.76,\n",
       " 51.65,\n",
       " 51.45,\n",
       " 51.05,\n",
       " 51.16,\n",
       " 51.88,\n",
       " 52.73,\n",
       " 52.37,\n",
       " 52.7,\n",
       " 53.11,\n",
       " 52.64,\n",
       " 52.29,\n",
       " 52.28,\n",
       " 51.5,\n",
       " 50.89,\n",
       " 50.8,\n",
       " 51.21,\n",
       " 49.5,\n",
       " 49.52,\n",
       " 48.64,\n",
       " 49.64,\n",
       " 49.09,\n",
       " 49.13,\n",
       " 49.11,\n",
       " 48.8,\n",
       " 48.4,\n",
       " 47.25,\n",
       " 46.57,\n",
       " 47.03,\n",
       " 47.09,\n",
       " 47.98,\n",
       " 48.4,\n",
       " 48.38,\n",
       " 47.3,\n",
       " 47.65,\n",
       " 46.42,\n",
       " 46.16,\n",
       " 45.81,\n",
       " 45.0,\n",
       " 45.88,\n",
       " 46.29,\n",
       " 46.53,\n",
       " 45.48,\n",
       " 45.2,\n",
       " 45.01,\n",
       " 45.16,\n",
       " 44.9,\n",
       " 45.08,\n",
       " 45.72,\n",
       " 46.01,\n",
       " 45.8,\n",
       " 45.61,\n",
       " 45.5,\n",
       " 45.58,\n",
       " 45.97,\n",
       " 45.64,\n",
       " 46.2,\n",
       " 46.19,\n",
       " 46.01,\n",
       " 45.36,\n",
       " 44.51,\n",
       " 43.58,\n",
       " 42.0,\n",
       " 42.35,\n",
       " 42.3,\n",
       " 42.3,\n",
       " 41.48,\n",
       " 42.29,\n",
       " 42.54,\n",
       " 42.65,\n",
       " 42.5,\n",
       " 42.29,\n",
       " 42.35,\n",
       " 42.49,\n",
       " 43.21,\n",
       " 42.81,\n",
       " 42.7,\n",
       " 43.0,\n",
       " 42.66,\n",
       " 43.0,\n",
       " 42.38,\n",
       " 42.16,\n",
       " 42.0,\n",
       " 42.0,\n",
       " 41.71,\n",
       " 42.11,\n",
       " 42.64,\n",
       " 42.72,\n",
       " 42.82,\n",
       " 42.46,\n",
       " 42.42,\n",
       " 42.28,\n",
       " 41.88,\n",
       " 42.4,\n",
       " 42.53,\n",
       " 42.12,\n",
       " 41.3,\n",
       " 41.73,\n",
       " 43.5,\n",
       " 44.9,\n",
       " 45.85,\n",
       " 45.13,\n",
       " 45.34,\n",
       " 45.25,\n",
       " 45.24,\n",
       " 44.94,\n",
       " 45.26,\n",
       " 45.16,\n",
       " 44.91,\n",
       " 44.7,\n",
       " 45.31,\n",
       " 45.57,\n",
       " 45.74,\n",
       " 45.06,\n",
       " 45.5,\n",
       " 45.6,\n",
       " 45.07,\n",
       " 44.67,\n",
       " 44.29,\n",
       " 44.94,\n",
       " 44.64,\n",
       " 44.79,\n",
       " 45.5,\n",
       " 44.67,\n",
       " 45.83,\n",
       " 45.29,\n",
       " 45.01,\n",
       " 45.73,\n",
       " 46.68,\n",
       " 47.23,\n",
       " 46.95,\n",
       " 47.29,\n",
       " 47.03,\n",
       " 47.46,\n",
       " 46.48,\n",
       " 46.9,\n",
       " 45.66,\n",
       " 46.34,\n",
       " 46.52,\n",
       " 46.5,\n",
       " 47.31,\n",
       " 46.77,\n",
       " 47.8,\n",
       " 47.01,\n",
       " 47.12,\n",
       " 46.8,\n",
       " 46.12,\n",
       " 45.22,\n",
       " 45.05,\n",
       " 45.61,\n",
       " 44.8,\n",
       " 44.8,\n",
       " 43.92,\n",
       " 43.67,\n",
       " 44.16,\n",
       " 43.74,\n",
       " 44.0,\n",
       " 45.06,\n",
       " 45.15,\n",
       " 45.09,\n",
       " 45.18,\n",
       " 43.4,\n",
       " 43.5,\n",
       " 41.83,\n",
       " 43.0,\n",
       " 42.52,\n",
       " 41.86,\n",
       " 42.2,\n",
       " 41.89,\n",
       " None,\n",
       " 42.17,\n",
       " 41.51,\n",
       " 41.88,\n",
       " 41.93,\n",
       " 42.01,\n",
       " 41.97,\n",
       " 42.5,\n",
       " 41.94,\n",
       " 42.24,\n",
       " None,\n",
       " None,\n",
       " 42.06,\n",
       " 42.02,\n",
       " 41.62,\n",
       " 41.46,\n",
       " 40.9,\n",
       " 40.96,\n",
       " 41.1,\n",
       " 39.5,\n",
       " 40.15,\n",
       " 39.77,\n",
       " 40.02,\n",
       " 39.39,\n",
       " 38.95,\n",
       " 38.73,\n",
       " 38.94,\n",
       " 39.01,\n",
       " 38.25,\n",
       " 41.8,\n",
       " 41.26,\n",
       " 41.47,\n",
       " 41.4,\n",
       " 41.4,\n",
       " 41.2,\n",
       " 41.4,\n",
       " 41.53,\n",
       " 41.61,\n",
       " 41.13,\n",
       " 41.5,\n",
       " 41.25,\n",
       " 41.12,\n",
       " 41.38,\n",
       " 41.19,\n",
       " 40.38,\n",
       " 39.75,\n",
       " 39.77,\n",
       " 39.72,\n",
       " 39.6,\n",
       " 38.85,\n",
       " 39.25,\n",
       " 38.8,\n",
       " 38.8,\n",
       " 38.5,\n",
       " 38.81,\n",
       " 37.37,\n",
       " 36.65,\n",
       " 36.2,\n",
       " 35.98,\n",
       " 35.56,\n",
       " 36.06,\n",
       " 36.02,\n",
       " 35.95,\n",
       " 34.75,\n",
       " 35.24,\n",
       " 35.38,\n",
       " 34.83,\n",
       " 35.07,\n",
       " 34.42,\n",
       " 34.0,\n",
       " 34.04,\n",
       " 34.54,\n",
       " 35.04,\n",
       " 35.04,\n",
       " 35.06,\n",
       " 34.85,\n",
       " 34.98,\n",
       " 35.38,\n",
       " 34.95,\n",
       " 34.8,\n",
       " 35.29,\n",
       " 34.91,\n",
       " 35.02,\n",
       " 35.48,\n",
       " 35.9,\n",
       " 34.99]"
      ]
     },
     "execution_count": 265,
     "metadata": {},
     "output_type": "execute_result"
    }
   ],
   "source": [
    "AFX_X_dict['Open']"
   ]
  },
  {
   "cell_type": "code",
   "execution_count": 266,
   "metadata": {},
   "outputs": [],
   "source": [
    "AFX_X_dict['Open'] = list(filter(None,AFX_X_dict['Open']))"
   ]
  },
  {
   "cell_type": "code",
   "execution_count": 267,
   "metadata": {},
   "outputs": [
    {
     "data": {
      "text/plain": [
       "[51.76,\n",
       " 51.65,\n",
       " 51.45,\n",
       " 51.05,\n",
       " 51.16,\n",
       " 51.88,\n",
       " 52.73,\n",
       " 52.37,\n",
       " 52.7,\n",
       " 53.11,\n",
       " 52.64,\n",
       " 52.29,\n",
       " 52.28,\n",
       " 51.5,\n",
       " 50.89,\n",
       " 50.8,\n",
       " 51.21,\n",
       " 49.5,\n",
       " 49.52,\n",
       " 48.64,\n",
       " 49.64,\n",
       " 49.09,\n",
       " 49.13,\n",
       " 49.11,\n",
       " 48.8,\n",
       " 48.4,\n",
       " 47.25,\n",
       " 46.57,\n",
       " 47.03,\n",
       " 47.09,\n",
       " 47.98,\n",
       " 48.4,\n",
       " 48.38,\n",
       " 47.3,\n",
       " 47.65,\n",
       " 46.42,\n",
       " 46.16,\n",
       " 45.81,\n",
       " 45.0,\n",
       " 45.88,\n",
       " 46.29,\n",
       " 46.53,\n",
       " 45.48,\n",
       " 45.2,\n",
       " 45.01,\n",
       " 45.16,\n",
       " 44.9,\n",
       " 45.08,\n",
       " 45.72,\n",
       " 46.01,\n",
       " 45.8,\n",
       " 45.61,\n",
       " 45.5,\n",
       " 45.58,\n",
       " 45.97,\n",
       " 45.64,\n",
       " 46.2,\n",
       " 46.19,\n",
       " 46.01,\n",
       " 45.36,\n",
       " 44.51,\n",
       " 43.58,\n",
       " 42.0,\n",
       " 42.35,\n",
       " 42.3,\n",
       " 42.3,\n",
       " 41.48,\n",
       " 42.29,\n",
       " 42.54,\n",
       " 42.65,\n",
       " 42.5,\n",
       " 42.29,\n",
       " 42.35,\n",
       " 42.49,\n",
       " 43.21,\n",
       " 42.81,\n",
       " 42.7,\n",
       " 43.0,\n",
       " 42.66,\n",
       " 43.0,\n",
       " 42.38,\n",
       " 42.16,\n",
       " 42.0,\n",
       " 42.0,\n",
       " 41.71,\n",
       " 42.11,\n",
       " 42.64,\n",
       " 42.72,\n",
       " 42.82,\n",
       " 42.46,\n",
       " 42.42,\n",
       " 42.28,\n",
       " 41.88,\n",
       " 42.4,\n",
       " 42.53,\n",
       " 42.12,\n",
       " 41.3,\n",
       " 41.73,\n",
       " 43.5,\n",
       " 44.9,\n",
       " 45.85,\n",
       " 45.13,\n",
       " 45.34,\n",
       " 45.25,\n",
       " 45.24,\n",
       " 44.94,\n",
       " 45.26,\n",
       " 45.16,\n",
       " 44.91,\n",
       " 44.7,\n",
       " 45.31,\n",
       " 45.57,\n",
       " 45.74,\n",
       " 45.06,\n",
       " 45.5,\n",
       " 45.6,\n",
       " 45.07,\n",
       " 44.67,\n",
       " 44.29,\n",
       " 44.94,\n",
       " 44.64,\n",
       " 44.79,\n",
       " 45.5,\n",
       " 44.67,\n",
       " 45.83,\n",
       " 45.29,\n",
       " 45.01,\n",
       " 45.73,\n",
       " 46.68,\n",
       " 47.23,\n",
       " 46.95,\n",
       " 47.29,\n",
       " 47.03,\n",
       " 47.46,\n",
       " 46.48,\n",
       " 46.9,\n",
       " 45.66,\n",
       " 46.34,\n",
       " 46.52,\n",
       " 46.5,\n",
       " 47.31,\n",
       " 46.77,\n",
       " 47.8,\n",
       " 47.01,\n",
       " 47.12,\n",
       " 46.8,\n",
       " 46.12,\n",
       " 45.22,\n",
       " 45.05,\n",
       " 45.61,\n",
       " 44.8,\n",
       " 44.8,\n",
       " 43.92,\n",
       " 43.67,\n",
       " 44.16,\n",
       " 43.74,\n",
       " 44.0,\n",
       " 45.06,\n",
       " 45.15,\n",
       " 45.09,\n",
       " 45.18,\n",
       " 43.4,\n",
       " 43.5,\n",
       " 41.83,\n",
       " 43.0,\n",
       " 42.52,\n",
       " 41.86,\n",
       " 42.2,\n",
       " 41.89,\n",
       " 42.17,\n",
       " 41.51,\n",
       " 41.88,\n",
       " 41.93,\n",
       " 42.01,\n",
       " 41.97,\n",
       " 42.5,\n",
       " 41.94,\n",
       " 42.24,\n",
       " 42.06,\n",
       " 42.02,\n",
       " 41.62,\n",
       " 41.46,\n",
       " 40.9,\n",
       " 40.96,\n",
       " 41.1,\n",
       " 39.5,\n",
       " 40.15,\n",
       " 39.77,\n",
       " 40.02,\n",
       " 39.39,\n",
       " 38.95,\n",
       " 38.73,\n",
       " 38.94,\n",
       " 39.01,\n",
       " 38.25,\n",
       " 41.8,\n",
       " 41.26,\n",
       " 41.47,\n",
       " 41.4,\n",
       " 41.4,\n",
       " 41.2,\n",
       " 41.4,\n",
       " 41.53,\n",
       " 41.61,\n",
       " 41.13,\n",
       " 41.5,\n",
       " 41.25,\n",
       " 41.12,\n",
       " 41.38,\n",
       " 41.19,\n",
       " 40.38,\n",
       " 39.75,\n",
       " 39.77,\n",
       " 39.72,\n",
       " 39.6,\n",
       " 38.85,\n",
       " 39.25,\n",
       " 38.8,\n",
       " 38.8,\n",
       " 38.5,\n",
       " 38.81,\n",
       " 37.37,\n",
       " 36.65,\n",
       " 36.2,\n",
       " 35.98,\n",
       " 35.56,\n",
       " 36.06,\n",
       " 36.02,\n",
       " 35.95,\n",
       " 34.75,\n",
       " 35.24,\n",
       " 35.38,\n",
       " 34.83,\n",
       " 35.07,\n",
       " 34.42,\n",
       " 34.0,\n",
       " 34.04,\n",
       " 34.54,\n",
       " 35.04,\n",
       " 35.04,\n",
       " 35.06,\n",
       " 34.85,\n",
       " 34.98,\n",
       " 35.38,\n",
       " 34.95,\n",
       " 34.8,\n",
       " 35.29,\n",
       " 34.91,\n",
       " 35.02,\n",
       " 35.48,\n",
       " 35.9,\n",
       " 34.99]"
      ]
     },
     "execution_count": 267,
     "metadata": {},
     "output_type": "execute_result"
    }
   ],
   "source": [
    "AFX_X_dict['Open']"
   ]
  },
  {
   "cell_type": "code",
   "execution_count": 280,
   "metadata": {},
   "outputs": [
    {
     "data": {
      "text/plain": [
       "252"
      ]
     },
     "execution_count": 280,
     "metadata": {},
     "output_type": "execute_result"
    }
   ],
   "source": [
    "len(AFX_X_dict['Open'])"
   ]
  },
  {
   "cell_type": "code",
   "execution_count": 268,
   "metadata": {},
   "outputs": [],
   "source": [
    "max_price = AFX_X_dict['Open'][0]\n",
    "min_price = AFX_X_dict['Open'][0]\n",
    "for i in range(len(AFX_X_dict['Open'])):\n",
    "    if max_price < AFX_X_dict['Open'][i]:\n",
    "        max_price = AFX_X_dict['Open'][i]\n",
    "    if min_price > AFX_X_dict['Open'][i]:\n",
    "        min_price = AFX_X_dict['Open'][i]\n",
    "        "
   ]
  },
  {
   "cell_type": "code",
   "execution_count": 269,
   "metadata": {},
   "outputs": [
    {
     "data": {
      "text/plain": [
       "(53.11, 34.0)"
      ]
     },
     "execution_count": 269,
     "metadata": {},
     "output_type": "execute_result"
    }
   ],
   "source": [
    "max_price, min_price"
   ]
  },
  {
   "cell_type": "markdown",
   "metadata": {},
   "source": [
    "So the highest open price is 53.11 and lowest open price is 34.0"
   ]
  },
  {
   "cell_type": "code",
   "execution_count": 270,
   "metadata": {},
   "outputs": [],
   "source": [
    "largest_change_daily = AFX_X_dict[\"High\"][0] - AFX_X_dict['Low'][0]\n",
    "for i in range(length):\n",
    "    if largest_change_daily < AFX_X_dict[\"High\"][i] - AFX_X_dict['Low'][i]:\n",
    "        largest_change_daily = AFX_X_dict[\"High\"][i] - AFX_X_dict['Low'][i]\n",
    "\n"
   ]
  },
  {
   "cell_type": "code",
   "execution_count": 271,
   "metadata": {},
   "outputs": [
    {
     "data": {
      "text/plain": [
       "2.8100000000000023"
      ]
     },
     "execution_count": 271,
     "metadata": {},
     "output_type": "execute_result"
    }
   ],
   "source": [
    "largest_change_daily"
   ]
  },
  {
   "cell_type": "markdown",
   "metadata": {},
   "source": [
    "So the largest daily change is 2.81"
   ]
  },
  {
   "cell_type": "code",
   "execution_count": 272,
   "metadata": {},
   "outputs": [],
   "source": [
    "largest_change_btn_two_days = abs(AFX_X_dict['Close'][0] - AFX_X_dict['Close'][1])\n",
    "for i in range(length-1):\n",
    "    if largest_change_btn_two_days < abs(AFX_X_dict['Close'][i] - AFX_X_dict['Close'][i+1]):\n",
    "        largest_change_btn_two_days = abs(AFX_X_dict['Close'][i] - AFX_X_dict['Close'][i+1])\n",
    "    "
   ]
  },
  {
   "cell_type": "code",
   "execution_count": 273,
   "metadata": {},
   "outputs": [
    {
     "data": {
      "text/plain": [
       "2.559999999999995"
      ]
     },
     "execution_count": 273,
     "metadata": {},
     "output_type": "execute_result"
    }
   ],
   "source": [
    "largest_change_btn_two_days"
   ]
  },
  {
   "cell_type": "markdown",
   "metadata": {},
   "source": [
    "So the largest change between any two days is 2.56"
   ]
  },
  {
   "cell_type": "code",
   "execution_count": 274,
   "metadata": {},
   "outputs": [
    {
     "data": {
      "text/plain": [
       "[34640.0,\n",
       " 40660.0,\n",
       " 57452.0,\n",
       " 71165.0,\n",
       " 120649.0,\n",
       " 50587.0,\n",
       " 137313.0,\n",
       " 129733.0,\n",
       " 204080.0,\n",
       " 132981.0,\n",
       " 128434.0,\n",
       " 87911.0,\n",
       " 71817.0,\n",
       " 109157.0,\n",
       " 48123.0,\n",
       " 88730.0,\n",
       " 83023.0,\n",
       " 94385.0,\n",
       " 101733.0,\n",
       " 123019.0,\n",
       " 67342.0,\n",
       " 42669.0,\n",
       " 102180.0,\n",
       " 50350.0,\n",
       " 38834.0,\n",
       " 91142.0,\n",
       " 78502.0,\n",
       " 97252.0,\n",
       " 54107.0,\n",
       " 89373.0,\n",
       " 67593.0,\n",
       " 67672.0,\n",
       " 76286.0,\n",
       " 90245.0,\n",
       " 120268.0,\n",
       " 94195.0,\n",
       " 48152.0,\n",
       " 60716.0,\n",
       " 56911.0,\n",
       " 37958.0,\n",
       " 56319.0,\n",
       " 56245.0,\n",
       " 74472.0,\n",
       " 56319.0,\n",
       " 47730.0,\n",
       " 43042.0,\n",
       " 43375.0,\n",
       " 55707.0,\n",
       " 59991.0,\n",
       " 45263.0,\n",
       " 65837.0,\n",
       " 49246.0,\n",
       " 43362.0,\n",
       " 49180.0,\n",
       " 69455.0,\n",
       " 65860.0,\n",
       " 44059.0,\n",
       " 66760.0,\n",
       " 94804.0,\n",
       " 115706.0,\n",
       " 95313.0,\n",
       " 99821.0,\n",
       " 157234.0,\n",
       " 76600.0,\n",
       " 51321.0,\n",
       " 56224.0,\n",
       " 79955.0,\n",
       " 105194.0,\n",
       " 57838.0,\n",
       " 65546.0,\n",
       " 44037.0,\n",
       " 107144.0,\n",
       " 65157.0,\n",
       " 68801.0,\n",
       " 52828.0,\n",
       " 103273.0,\n",
       " 59881.0,\n",
       " 64320.0,\n",
       " 71006.0,\n",
       " 66351.0,\n",
       " 105288.0,\n",
       " 151474.0,\n",
       " 157888.0,\n",
       " 97804.0,\n",
       " 98156.0,\n",
       " 47130.0,\n",
       " 69734.0,\n",
       " 65213.0,\n",
       " 70269.0,\n",
       " 95376.0,\n",
       " 68812.0,\n",
       " 72886.0,\n",
       " 131361.0,\n",
       " 104676.0,\n",
       " 64334.0,\n",
       " 127682.0,\n",
       " 183412.0,\n",
       " 175161.0,\n",
       " 355857.0,\n",
       " 156168.0,\n",
       " 164543.0,\n",
       " 96202.0,\n",
       " 77854.0,\n",
       " 187468.0,\n",
       " 74975.0,\n",
       " 62672.0,\n",
       " 114006.0,\n",
       " 50557.0,\n",
       " 81970.0,\n",
       " 112224.0,\n",
       " 104282.0,\n",
       " 73422.0,\n",
       " 87399.0,\n",
       " 71971.0,\n",
       " 104003.0,\n",
       " 104995.0,\n",
       " 67375.0,\n",
       " 82745.0,\n",
       " 115705.0,\n",
       " 90538.0,\n",
       " 71868.0,\n",
       " 47999.0,\n",
       " 66116.0,\n",
       " 48706.0,\n",
       " 50549.0,\n",
       " 71381.0,\n",
       " 136112.0,\n",
       " 134965.0,\n",
       " 117165.0,\n",
       " 82492.0,\n",
       " 73322.0,\n",
       " 80586.0,\n",
       " 56071.0,\n",
       " 89752.0,\n",
       " 108334.0,\n",
       " 70056.0,\n",
       " 202214.0,\n",
       " 101733.0,\n",
       " 83741.0,\n",
       " 107644.0,\n",
       " 112942.0,\n",
       " 99674.0,\n",
       " 1945.0,\n",
       " 1081.0,\n",
       " 686.0,\n",
       " 290.0,\n",
       " 106513.0,\n",
       " 522.0,\n",
       " 587.0,\n",
       " 112.0,\n",
       " 74453.0,\n",
       " 49970.0,\n",
       " 111923.0,\n",
       " 38308.0,\n",
       " 70856.0,\n",
       " 45.0,\n",
       " 166160.0,\n",
       " 149515.0,\n",
       " 101476.0,\n",
       " 193702.0,\n",
       " 159495.0,\n",
       " 189125.0,\n",
       " 91858.0,\n",
       " 151439.0,\n",
       " 97456.0,\n",
       " 78512.0,\n",
       " 82058.0,\n",
       " 65266.0,\n",
       " 86559.0,\n",
       " 86348.0,\n",
       " 86348.0,\n",
       " 151683.0,\n",
       " 65847.0,\n",
       " 85973.0,\n",
       " 102084.0,\n",
       " 186784.0,\n",
       " 223621.0,\n",
       " 92722.0,\n",
       " 133057.0,\n",
       " 88416.0,\n",
       " 88416.0,\n",
       " 88416.0,\n",
       " 158278.0,\n",
       " 107817.0,\n",
       " 62297.0,\n",
       " 81255.0,\n",
       " 96794.0,\n",
       " 156005.0,\n",
       " 193156.0,\n",
       " 127973.0,\n",
       " 95382.0,\n",
       " 189201.0,\n",
       " 335406.0,\n",
       " 115075.0,\n",
       " 191515.0,\n",
       " 210926.0,\n",
       " 169971.0,\n",
       " 670349.0,\n",
       " 56906.0,\n",
       " 97572.0,\n",
       " 90109.0,\n",
       " 55799.0,\n",
       " 60324.0,\n",
       " 60420.0,\n",
       " 44803.0,\n",
       " 38518.0,\n",
       " 43988.0,\n",
       " 45111.0,\n",
       " 61925.0,\n",
       " 46510.0,\n",
       " 40800.0,\n",
       " 49863.0,\n",
       " 86753.0,\n",
       " 67440.0,\n",
       " 62655.0,\n",
       " 101294.0,\n",
       " 81945.0,\n",
       " 77619.0,\n",
       " 46070.0,\n",
       " 37014.0,\n",
       " 60583.0,\n",
       " 84682.0,\n",
       " 77420.0,\n",
       " 82601.0,\n",
       " 177171.0,\n",
       " 115843.0,\n",
       " 67781.0,\n",
       " 39731.0,\n",
       " 67410.0,\n",
       " 41911.0,\n",
       " 40705.0,\n",
       " 54279.0,\n",
       " 85137.0,\n",
       " 63371.0,\n",
       " 69603.0,\n",
       " 69657.0,\n",
       " 64103.0,\n",
       " 56240.0,\n",
       " 48797.0,\n",
       " 55333.0,\n",
       " 80246.0,\n",
       " 73105.0,\n",
       " 65931.0,\n",
       " 39195.0,\n",
       " 47879.0,\n",
       " 59367.0,\n",
       " 163860.0,\n",
       " 123530.0,\n",
       " 43976.0,\n",
       " 62225.0,\n",
       " 27507.0,\n",
       " 48412.0,\n",
       " 54408.0,\n",
       " 70618.0,\n",
       " 44700.0]"
      ]
     },
     "execution_count": 274,
     "metadata": {},
     "output_type": "execute_result"
    }
   ],
   "source": [
    "AFX_X_dict['Traded Volume']"
   ]
  },
  {
   "cell_type": "code",
   "execution_count": 275,
   "metadata": {},
   "outputs": [],
   "source": [
    "total_traded_volume = 0.0\n",
    "for i in range(length):\n",
    "    total_traded_volume = total_traded_volume + AFX_X_dict['Traded Volume'][i]\n",
    "    \n",
    "avg_traded_volume = total_traded_volume/length"
   ]
  },
  {
   "cell_type": "code",
   "execution_count": 276,
   "metadata": {},
   "outputs": [
    {
     "data": {
      "text/plain": [
       "89124.33725490196"
      ]
     },
     "execution_count": 276,
     "metadata": {},
     "output_type": "execute_result"
    }
   ],
   "source": [
    "avg_traded_volume"
   ]
  },
  {
   "cell_type": "markdown",
   "metadata": {},
   "source": [
    "So the average traded volume is 89124."
   ]
  },
  {
   "cell_type": "code",
   "execution_count": 277,
   "metadata": {},
   "outputs": [],
   "source": [
    "for i in range(length):\n",
    "    for j in range(i+1,length):\n",
    "        if AFX_X_dict['Traded Volume'][i] > AFX_X_dict['Traded Volume'][j]:\n",
    "            switch = AFX_X_dict['Traded Volume'][i]\n",
    "            AFX_X_dict['Traded Volume'][i] = AFX_X_dict['Traded Volume'][j]\n",
    "            AFX_X_dict['Traded Volume'][j] = switch\n",
    "            "
   ]
  },
  {
   "cell_type": "code",
   "execution_count": 278,
   "metadata": {},
   "outputs": [],
   "source": [
    "median_traded_volume = (AFX_X_dict['Traded Volume'][int(length/2)] + AFX_X_dict['Traded Volume'][int(length/2+1)]) / 2"
   ]
  },
  {
   "cell_type": "code",
   "execution_count": 279,
   "metadata": {},
   "outputs": [
    {
     "data": {
      "text/plain": [
       "76443.0"
      ]
     },
     "execution_count": 279,
     "metadata": {},
     "output_type": "execute_result"
    }
   ],
   "source": [
    "median_traded_volume"
   ]
  },
  {
   "cell_type": "markdown",
   "metadata": {},
   "source": [
    "So median traded volume is 76443"
   ]
  }
 ],
 "metadata": {
  "interpreter": {
   "hash": "7635eb1b9d0fe97add78a7368b6b431c09bb8ad5c42e437d64abdd99821c31ae"
  },
  "kernelspec": {
   "display_name": "Python 3",
   "language": "python",
   "name": "python3"
  },
  "language_info": {
   "codemirror_mode": {
    "name": "ipython",
    "version": 3
   },
   "file_extension": ".py",
   "mimetype": "text/x-python",
   "name": "python",
   "nbconvert_exporter": "python",
   "pygments_lexer": "ipython3",
   "version": "3.8.8"
  }
 },
 "nbformat": 4,
 "nbformat_minor": 4
}
